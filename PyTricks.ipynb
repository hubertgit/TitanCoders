{
 "cells": [
  {
   "cell_type": "markdown",
   "metadata": {},
   "source": [
    "## USEFUL PYTHON TRICKS"
   ]
  },
  {
   "cell_type": "markdown",
   "metadata": {},
   "source": [
    "## List Comprehensions"
   ]
  },
  {
   "cell_type": "code",
   "execution_count": 100,
   "metadata": {},
   "outputs": [
    {
     "name": "stdout",
     "output_type": "stream",
     "text": [
      "[7, 14, 21, 28, 35, 42, 49, 56, 63, 70, 77, 84, 91, 98]\n",
      "[4, 16, 36, 64, 100, 144, 196, 256, 324, 400]\n",
      "['Al', 'Tim', 'Ann']\n",
      "Celsius [0, 10, 20, 30, 40]\n",
      "Fahrenheit [32.0, 50.0, 68.0, 86.0, 104.0]\n"
     ]
    }
   ],
   "source": [
    "# These provide a quick, elegant technique for creating a list or sublist \n",
    "# General Format: output_list = [output_exp for var in input_list if (var satisfies this condition)]\n",
    "\n",
    "# list of multiples of 7 between 1 and 100\n",
    "mults7 = [x for x in range(1,101) if x % 7 == 0]\n",
    "print(mults7)\n",
    "\n",
    "# List of squares of even numbers from 2 to 20\n",
    "squares = [x ** 2 for x in range(2,21,2)]\n",
    "print(squares)\n",
    "\n",
    "pals = ['Penny','Al','Tim','Fred','Benny','Ann','Rick']\n",
    "# List of pals with names having 3 or less charas.\n",
    "pals2 = [p for p in pals if len(p) <= 3]\n",
    "print(pals2)\n",
    "\n",
    "# list of Celsius temperatures from 0 to 40 by tens\n",
    "cels = [c for c in range(0,41,10)]\n",
    "print('Celsius',cels)\n",
    "\n",
    "# list of Fahrenheit equivalent to above Celsius temperatures\n",
    "fahs = [c * 9/5 + 32 for c in cels]\n",
    "print('Fahrenheit',fahs)"
   ]
  },
  {
   "cell_type": "code",
   "execution_count": 101,
   "metadata": {},
   "outputs": [
    {
     "data": {
      "text/plain": [
       "[[0.0, 1.0, 0.0],\n",
       " [0.01745240643728351, 0.9998476951563913, 0.017455064928217585],\n",
       " [0.03489949670250097, 0.9993908270190958, 0.03492076949174773],\n",
       " [0.052335956242943835, 0.9986295347545738, 0.05240777928304121],\n",
       " [0.0697564737441253, 0.9975640502598242, 0.06992681194351041],\n",
       " [0.08715574274765817, 0.9961946980917455, 0.08748866352592401],\n",
       " [0.10452846326765347, 0.9945218953682733, 0.10510423526567647],\n",
       " [0.12186934340514748, 0.992546151641322, 0.1227845609029046],\n",
       " [0.13917310096006544, 0.9902680687415704, 0.14054083470239145],\n",
       " [0.15643446504023087, 0.9876883405951378, 0.15838444032453627],\n",
       " [0.17364817766693033, 0.984807753012208, 0.17632698070846498],\n",
       " [0.1908089953765448, 0.981627183447664, 0.19438030913771848],\n",
       " [0.20791169081775934, 0.9781476007338057, 0.21255656167002213],\n",
       " [0.224951054343865, 0.9743700647852352, 0.23086819112556312],\n",
       " [0.24192189559966773, 0.9702957262759965, 0.24932800284318068],\n",
       " [0.25881904510252074, 0.9659258262890683, 0.2679491924311227],\n",
       " [0.27563735581699916, 0.9612616959383189, 0.2867453857588079],\n",
       " [0.29237170472273677, 0.9563047559630354, 0.3057306814586604],\n",
       " [0.3090169943749474, 0.9510565162951535, 0.3249196962329063],\n",
       " [0.3255681544571567, 0.9455185755993168, 0.34432761328966527],\n",
       " [0.3420201433256687, 0.9396926207859084, 0.36397023426620234],\n",
       " [0.35836794954530027, 0.9335804264972017, 0.3838640350354158],\n",
       " [0.374606593415912, 0.9271838545667874, 0.4040262258351568],\n",
       " [0.39073112848927377, 0.9205048534524404, 0.42447481620960476],\n",
       " [0.4067366430758002, 0.9135454576426009, 0.4452286853085362],\n",
       " [0.42261826174069944, 0.9063077870366499, 0.4663076581549986],\n",
       " [0.4383711467890774, 0.898794046299167, 0.48773258856586144],\n",
       " [0.45399049973954675, 0.8910065241883679, 0.5095254494944288],\n",
       " [0.4694715627858908, 0.882947592858927, 0.5317094316614788],\n",
       " [0.48480962024633706, 0.8746197071393957, 0.554309051452769],\n",
       " [0.49999999999999994, 0.8660254037844387, 0.5773502691896257],\n",
       " [0.5150380749100542, 0.8571673007021123, 0.6008606190275604],\n",
       " [0.5299192642332049, 0.848048096156426, 0.6248693519093275],\n",
       " [0.5446390350150271, 0.838670567945424, 0.6494075931975106],\n",
       " [0.5591929034707469, 0.8290375725550417, 0.6745085168424266],\n",
       " [0.573576436351046, 0.8191520442889918, 0.7002075382097097],\n",
       " [0.5877852522924731, 0.8090169943749475, 0.7265425280053608],\n",
       " [0.6018150231520483, 0.7986355100472928, 0.7535540501027942],\n",
       " [0.6156614753256583, 0.7880107536067219, 0.7812856265067174],\n",
       " [0.6293203910498374, 0.7771459614569709, 0.809784033195007],\n",
       " [0.6427876096865393, 0.766044443118978, 0.8390996311772799],\n",
       " [0.6560590289905073, 0.754709580222772, 0.8692867378162266],\n",
       " [0.6691306063588582, 0.7431448254773942, 0.9004040442978399],\n",
       " [0.6819983600624985, 0.7313537016191705, 0.9325150861376618],\n",
       " [0.6946583704589973, 0.7193398003386512, 0.9656887748070739],\n",
       " [0.7071067811865476, 0.7071067811865476, 0.9999999999999999],\n",
       " [0.7193398003386512, 0.6946583704589973, 1.0355303137905696],\n",
       " [0.7313537016191705, 0.6819983600624985, 1.0723687100246826],\n",
       " [0.7431448254773942, 0.6691306063588582, 1.110612514829193],\n",
       " [0.754709580222772, 0.6560590289905073, 1.1503684072210094],\n",
       " [0.766044443118978, 0.6427876096865394, 1.19175359259421],\n",
       " [0.7771459614569709, 0.6293203910498375, 1.2348971565350515],\n",
       " [0.788010753606722, 0.6156614753256583, 1.2799416321930788],\n",
       " [0.7986355100472928, 0.6018150231520484, 1.3270448216204098],\n",
       " [0.8090169943749475, 0.5877852522924731, 1.3763819204711734],\n",
       " [0.8191520442889918, 0.573576436351046, 1.4281480067421144],\n",
       " [0.8290375725550417, 0.5591929034707468, 1.4825609685127403],\n",
       " [0.838670567945424, 0.5446390350150271, 1.539864963814583],\n",
       " [0.8480480961564261, 0.5299192642332049, 1.6003345290410507],\n",
       " [0.8571673007021123, 0.5150380749100542, 1.6642794823505183],\n",
       " [0.8660254037844386, 0.5000000000000001, 1.7320508075688767],\n",
       " [0.8746197071393957, 0.4848096202463371, 1.8040477552714236],\n",
       " [0.8829475928589269, 0.46947156278589086, 1.8807264653463318],\n",
       " [0.8910065241883678, 0.4539904997395468, 1.9626105055051504],\n",
       " [0.898794046299167, 0.43837114678907746, 2.050303841579296],\n",
       " [0.9063077870366499, 0.42261826174069944, 2.1445069205095586],\n",
       " [0.9135454576426009, 0.4067366430758002, 2.2460367739042164],\n",
       " [0.9205048534524404, 0.3907311284892737, 2.355852365823753],\n",
       " [0.9271838545667874, 0.37460659341591196, 2.4750868534162964],\n",
       " [0.9335804264972017, 0.3583679495453004, 2.6050890646938005],\n",
       " [0.9396926207859083, 0.3420201433256688, 2.7474774194546216],\n",
       " [0.9455185755993167, 0.32556815445715676, 2.904210877675822],\n",
       " [0.9510565162951535, 0.30901699437494745, 3.0776835371752527],\n",
       " [0.9563047559630354, 0.29237170472273677, 3.2708526184841404],\n",
       " [0.9612616959383189, 0.27563735581699916, 3.4874144438409087],\n",
       " [0.9659258262890683, 0.25881904510252074, 3.7320508075688776],\n",
       " [0.9702957262759965, 0.24192189559966767, 4.0107809335358455],\n",
       " [0.9743700647852352, 0.22495105434386492, 4.331475874284157],\n",
       " [0.9781476007338056, 0.20791169081775945, 4.704630109478451],\n",
       " [0.981627183447664, 0.19080899537654492, 5.144554015970307],\n",
       " [0.984807753012208, 0.17364817766693041, 5.671281819617707],\n",
       " [0.9876883405951378, 0.15643446504023092, 6.313751514675041],\n",
       " [0.9902680687415704, 0.13917310096006547, 7.115369722384207],\n",
       " [0.992546151641322, 0.12186934340514749, 8.144346427974593],\n",
       " [0.9945218953682733, 0.10452846326765346, 9.514364454222587],\n",
       " [0.9961946980917455, 0.08715574274765814, 11.430052302761348],\n",
       " [0.9975640502598242, 0.06975647374412523, 14.300666256711942],\n",
       " [0.9986295347545738, 0.052335956242943966, 19.08113668772816],\n",
       " [0.9993908270190958, 0.03489949670250108, 28.636253282915515],\n",
       " [0.9998476951563913, 0.0174524064372836, 57.289961630759144],\n",
       " [1.0, 6.123233995736766e-17, 1.633123935319537e+16]]"
      ]
     },
     "execution_count": 101,
     "metadata": {},
     "output_type": "execute_result"
    }
   ],
   "source": [
    "# generate sin,cos,tan table\n",
    "\n",
    "import math as ma\n",
    "rads = [ma.radians(x) for x in range(91)]                   # convert degrees 0-90 to radians\n",
    "trig = [[ma.sin(x),ma.cos(x),ma.tan(x)] for x in rads] \n",
    "trig"
   ]
  },
  {
   "cell_type": "markdown",
   "metadata": {},
   "source": [
    "## Tuples"
   ]
  },
  {
   "cell_type": "code",
   "execution_count": 102,
   "metadata": {},
   "outputs": [
    {
     "name": "stdout",
     "output_type": "stream",
     "text": [
      "(10, 12, 23, 4)\n",
      "[1, 2, 3]\n",
      "d\n",
      "a\n"
     ]
    }
   ],
   "source": [
    "# A tuple is a comma separated group of items, commonly inside () although this is optional.\n",
    "# The items don't have to be all the same type.\n",
    "\n",
    "tup = (10,12,23,4) \n",
    "print(tup)\n",
    "\n",
    "# some tuples of mixed types\n",
    "tup2 = (20,2.5,'apples')\n",
    "tup3 = ('Guido',[1,2,3],('a',3))\n",
    "\n",
    "# Tuple elements are indexed starting from zero\n",
    "print(tup3[1])\n",
    "print(tup3[0][3])\n",
    "print(tup3[2][0])"
   ]
  },
  {
   "cell_type": "code",
   "execution_count": 103,
   "metadata": {},
   "outputs": [
    {
     "name": "stdout",
     "output_type": "stream",
     "text": [
      "apples\n",
      "I bought 2 apples @0.79 each\n"
     ]
    }
   ],
   "source": [
    "my_tuple = (2,0.79,'apples')\n",
    "print(my_tuple[2])\n",
    "\n",
    "# using an f-string for output\n",
    "print(f'I bought {my_tuple[0]} {my_tuple[2]} @{my_tuple[1]} each')"
   ]
  },
  {
   "cell_type": "code",
   "execution_count": 104,
   "metadata": {},
   "outputs": [
    {
     "name": "stdout",
     "output_type": "stream",
     "text": [
      "I sold 2 cars on Tuesday and 5 on Thursday\n"
     ]
    }
   ],
   "source": [
    "# Tuple packing and unpacking\n",
    "\n",
    "sales = 4,2,3,5,2               # this is tuple packing\n",
    "m,t,w,r,f = sales               # this is tuple unpacking\n",
    "\n",
    "print('I sold',t,'cars on Tuesday and',r,'on Thursday')"
   ]
  },
  {
   "cell_type": "markdown",
   "metadata": {},
   "source": [
    "## Dictionaries"
   ]
  },
  {
   "cell_type": "code",
   "execution_count": 105,
   "metadata": {},
   "outputs": [
    {
     "name": "stdout",
     "output_type": "stream",
     "text": [
      "The Executive branch: President\n",
      "The Legislative branch: Congress\n",
      "The Judicial branch: Supreme Court\n"
     ]
    }
   ],
   "source": [
    "# A dictionary is a collection of key:value pairs. Values are retrieved by their keys.\n",
    "# There is a chapter on dictionaries in Gaddis Python. Read it if you still have the book.\n",
    "\n",
    "branches = {'Executive':'President','Legislative':'Congress','Judicial':'Supreme Court'}\n",
    "for k in branches:\n",
    "    print('The',k,'branch:',branches[k])"
   ]
  },
  {
   "cell_type": "code",
   "execution_count": 106,
   "metadata": {},
   "outputs": [
    {
     "name": "stdout",
     "output_type": "stream",
     "text": [
      "The Executive branch: President\n",
      "The Legislative branch: Congress\n",
      "The Judicial branch: Supreme Court\n"
     ]
    }
   ],
   "source": [
    "# The items() method returns tuples of keys and their values\n",
    "# Provides another way to display the dictionary;\n",
    "\n",
    "for k,v in branches.items():\n",
    "    print('The',k,'branch:',v)"
   ]
  },
  {
   "cell_type": "code",
   "execution_count": 107,
   "metadata": {},
   "outputs": [
    {
     "name": "stdout",
     "output_type": "stream",
     "text": [
      "math test scores: 80 92 75 : average: 82.3%\n",
      "chem test scores: 88 94 : average: 91.0%\n",
      "comp test scores: 78 86 82 94 : average: 85.0%\n"
     ]
    }
   ],
   "source": [
    "# Dictionary keys must be immutable types. Values can be any type.\n",
    "# For example, the values might be lists.\n",
    "\n",
    "grades = {'math':[80,92,75],\n",
    "          'chem':[88,94],\n",
    "          'comp':[78,86,82,94]\n",
    "         }\n",
    "\n",
    "for k,v in grades.items():             # items() \n",
    "    print(k,'test scores',end=': ')\n",
    "    for t in v:\n",
    "        print(t,end=' ')\n",
    "    print(': average: {:.1f}%'.format(sum(v) / len(v)))"
   ]
  },
  {
   "cell_type": "code",
   "execution_count": 108,
   "metadata": {},
   "outputs": [
    {
     "name": "stdout",
     "output_type": "stream",
     "text": [
      "Age groups\n",
      "Age 18 ['Penny', 'Lenny']\n",
      "Age 19 ['Benny', 'Jenny', 'Kenny']\n",
      "Age 20 ['Denny']\n"
     ]
    }
   ],
   "source": [
    "# a dictionary with integer keys\n",
    "\n",
    "age_grps = {18:['Penny','Lenny'],\n",
    "            19:['Benny','Jenny','Kenny'],\n",
    "            20:['Denny']\n",
    "           }\n",
    "\n",
    "print('Age groups')\n",
    "for k in age_grps:\n",
    "    print('Age',k,age_grps[k])"
   ]
  },
  {
   "cell_type": "code",
   "execution_count": 109,
   "metadata": {},
   "outputs": [
    {
     "name": "stdout",
     "output_type": "stream",
     "text": [
      "{'math': 88, 'comp': 75, 'chem': 90, 'ethics': 84}\n",
      "math 88\n",
      "comp 75\n",
      "chem 90\n",
      "ethics 84\n"
     ]
    }
   ],
   "source": [
    "# Dictionary Comprehensions\n",
    "# General Form: {key:value for (key, value) in iterable}\n",
    "# Example: create a dictionary from parallel lists\n",
    "\n",
    "keys = ['math','comp','chem','ethics']\n",
    "values = [88,75,90,84]\n",
    "\n",
    "grades = {k:v for (k,v) in zip(keys,values)}  # <--- the dictionary comprehension\n",
    "# grades = dict(zip(keys,values)) also works but is not a comprehension. zip is covered later below\n",
    "\n",
    "print(grades)   # crude \"dump\" of dictionary\n",
    "\n",
    "for k in keys:\n",
    "    print(k,grades[k])"
   ]
  },
  {
   "cell_type": "code",
   "execution_count": 110,
   "metadata": {},
   "outputs": [
    {
     "name": "stdout",
     "output_type": "stream",
     "text": [
      "{7: 49, 17: 289, 27: 729, 37: 1369, 47: 2209}\n",
      "7 squared is 49\n",
      "17 squared is 289\n",
      "27 squared is 729\n",
      "37 squared is 1369\n",
      "47 squared is 2209\n"
     ]
    }
   ],
   "source": [
    "# An if condition can be included in a dictionary comprehension\n",
    "# General Form: {key:value for (key, value) in iterable if expression}\n",
    "\n",
    "# example: squares of numbers ending in 7 between 0 and 50\n",
    "square7 = {x : x ** 2 for x in range(50) if x % 10 == 7}\n",
    "\n",
    "print(square7)   # crude dump\n",
    "\n",
    "for k,v in square7.items():\n",
    "    print(k,'squared is',v)"
   ]
  },
  {
   "cell_type": "markdown",
   "metadata": {},
   "source": [
    "## Sets"
   ]
  },
  {
   "cell_type": "code",
   "execution_count": 111,
   "metadata": {
    "scrolled": true
   },
   "outputs": [
    {
     "name": "stdout",
     "output_type": "stream",
     "text": [
      "{1, 2, 3, 4}\n",
      "{'i', 'd', ' ', 'm', 'a'}\n"
     ]
    }
   ],
   "source": [
    "# A set is collection of unordered items without duplicates.\n",
    "# A set can be created with the set() function. It can take ONLY ONE argument.\n",
    "\n",
    "set1 = set([4,1,2,3,4,3,2,1])  # duplicate numbers are not added\n",
    "print(set1)\n",
    "\n",
    "# If a string is passed to set(), each character is considered as an element.\n",
    "set2 = set('madam im adam')    # duplicate characters are not added\n",
    "print(set2)"
   ]
  },
  {
   "cell_type": "code",
   "execution_count": 112,
   "metadata": {
    "scrolled": true
   },
   "outputs": [
    {
     "name": "stdout",
     "output_type": "stream",
     "text": [
      "{9, 3, 4, 6}\n",
      "{2, 3, 4, 5, 6, 7}\n"
     ]
    }
   ],
   "source": [
    "# Adding a specified number of random integers to a set.\n",
    "# Example: make a set of 6 random ints, all between 1-10, inclusive.\n",
    "# CAUTION: A for loop might not make 6 because duplicates are not added.\n",
    "\n",
    "import random as r\n",
    "nums = set()\n",
    "for n in range(6):\n",
    "    nums.add(r.randint(1,10))\n",
    "print(nums)\n",
    "\n",
    "# A while loop with len(set) works\n",
    "nums2 = set()\n",
    "while len(nums2) < 6:\n",
    "    nums2.add(r.randint(1,10))\n",
    "print(nums2)    "
   ]
  },
  {
   "cell_type": "markdown",
   "metadata": {},
   "source": [
    "## Packing and Unpacking Arguments"
   ]
  },
  {
   "cell_type": "code",
   "execution_count": 113,
   "metadata": {},
   "outputs": [
    {
     "name": "stdout",
     "output_type": "stream",
     "text": [
      "3\n",
      "18\n",
      "55\n"
     ]
    }
   ],
   "source": [
    "# Packing with *args allows any number of arguments to be passed to a function as a tuple\n",
    "\n",
    "def func(*args):\n",
    "    print(sum(args))\n",
    "    \n",
    "func(1,2)\n",
    "func(3,4,5,6)\n",
    "func(10,15,30)"
   ]
  },
  {
   "cell_type": "code",
   "execution_count": 114,
   "metadata": {},
   "outputs": [
    {
     "name": "stdout",
     "output_type": "stream",
     "text": [
      "6 is largest argument\n"
     ]
    }
   ],
   "source": [
    "# func2 converts args tuple to a list for further processing\n",
    "\n",
    "def func2(*args):\n",
    "    lst = list(args)\n",
    "    print(max(lst),'is largest argument')\n",
    "    \n",
    "func2(2,6,4,1,3)"
   ]
  },
  {
   "cell_type": "code",
   "execution_count": 115,
   "metadata": {},
   "outputs": [
    {
     "name": "stdout",
     "output_type": "stream",
     "text": [
      "Benny Kenny Jenny Lenny\n",
      "6 is largest argument\n"
     ]
    }
   ],
   "source": [
    "# Unpacking arguments from a list\n",
    "\n",
    "pals = ['Benny','Kenny','Jenny','Lenny']\n",
    "print(*pals)\n",
    "\n",
    "# func2 unpacks tuple and converts to a list for further processing\n",
    "\n",
    "def func2(*args):\n",
    "    lst = list(args)\n",
    "    print(max(lst),'is largest argument')\n",
    "    \n",
    "func2(2,6,4,1,3)"
   ]
  },
  {
   "cell_type": "code",
   "execution_count": 116,
   "metadata": {},
   "outputs": [
    {
     "name": "stdout",
     "output_type": "stream",
     "text": [
      "I ate 2 apples and 3 oranges and 2 pies\n",
      "The total of my coins is $1.70\n"
     ]
    }
   ],
   "source": [
    "# Use ** to unpack dictionaries\n",
    "\n",
    "def func3(apples,oranges,pies):\n",
    "    print('I ate',apples,'apples and',oranges,'oranges and',pies,'pies')\n",
    "\n",
    "lunch = {'apples':2,'oranges':3,'pies':2}\n",
    "func3(**lunch)\n",
    "\n",
    "# another example with a dictionary of coins\n",
    "\n",
    "def cash(qtrs,dimes,nicks):\n",
    "    total = 25 * qtrs + 10 * dimes + 5 * nicks\n",
    "    print('The total of my coins is ${:.2f}'.format(total/100))\n",
    "    \n",
    "coins = {'nicks':5,'dimes':7,'qtrs':3}\n",
    "cash(**coins)"
   ]
  },
  {
   "cell_type": "markdown",
   "metadata": {},
   "source": [
    "## The zip() function"
   ]
  },
  {
   "cell_type": "code",
   "execution_count": 117,
   "metadata": {},
   "outputs": [
    {
     "name": "stdout",
     "output_type": "stream",
     "text": [
      "[('x', 1), ('y', 2), ('z', 3)]\n"
     ]
    }
   ],
   "source": [
    "# The zip() function with list() returns a list of tuples\n",
    "\n",
    "vars = ['x','y','z']\n",
    "vals = [1,2,3]\n",
    "\n",
    "print(list(zip(vars,vals)))"
   ]
  },
  {
   "cell_type": "code",
   "execution_count": 118,
   "metadata": {},
   "outputs": [
    {
     "name": "stdout",
     "output_type": "stream",
     "text": [
      "[('a', 10), ('b', 20), ('c', 30), ('d', 40)]\n"
     ]
    }
   ],
   "source": [
    "# zip iteration stops when one sequence is exhausted\n",
    "\n",
    "chars = 'abcd'              # a string is a sequence\n",
    "nums = [10,20,30,40,50]\n",
    "data = list(zip(chars,nums))   # NOTE that 50 is ignored \n",
    "print(data)"
   ]
  },
  {
   "cell_type": "code",
   "execution_count": 119,
   "metadata": {},
   "outputs": [
    {
     "name": "stdout",
     "output_type": "stream",
     "text": [
      "[(1200, 'Jan'), (900, 'Feb'), (1000, 'Mar')]\n",
      "[(900, 'Feb'), (1000, 'Mar'), (1200, 'Jan')]\n"
     ]
    }
   ],
   "source": [
    "# The list of tuples generated with zip() can be sorted\n",
    "\n",
    "mos = ['Jan','Feb','Mar']\n",
    "sales = [1200,900,1000]\n",
    "data = list(zip(sales,mos))\n",
    "print(data)\n",
    "data.sort()\n",
    "print(data)"
   ]
  },
  {
   "cell_type": "code",
   "execution_count": 120,
   "metadata": {},
   "outputs": [
    {
     "name": "stdout",
     "output_type": "stream",
     "text": [
      "x : 1\n",
      "y : 2\n",
      "z : 3\n"
     ]
    }
   ],
   "source": [
    "# dict() with zip() can build a dictionary \n",
    "vars = ['x','y','z']\n",
    "vals = [1,2,3]\n",
    "\n",
    "my_dict = dict(zip(vars,vals))\n",
    "for k in my_dict:\n",
    "    print(k,':',my_dict[k])"
   ]
  },
  {
   "cell_type": "code",
   "execution_count": 121,
   "metadata": {},
   "outputs": [
    {
     "name": "stdout",
     "output_type": "stream",
     "text": [
      "(1, 2, 3)\n",
      "('a', 'b', 'c')\n",
      "('Guido', 'van', 'Rossum')\n"
     ]
    }
   ],
   "source": [
    "# zip with the unpacking operator * can unzip tuples into separate sequences.\n",
    "\n",
    "triads = list([(1,'a','Guido'),(2,'b','van'),(3,'c','Rossum')])\n",
    "nums,chs,guru = zip(*triads)\n",
    "print(nums)\n",
    "print(chs)\n",
    "print(guru)"
   ]
  },
  {
   "cell_type": "code",
   "execution_count": 122,
   "metadata": {},
   "outputs": [
    {
     "name": "stdout",
     "output_type": "stream",
     "text": [
      "('burgers', 'fries', 'pies')\n",
      "(3.99, 2.49, 1.99)\n",
      "(3, 2, 2)\n"
     ]
    }
   ],
   "source": [
    "# zip with the unpacking operator * also works with a list of lists\n",
    "\n",
    "purchases = [['burgers',3.99,3],['fries',2.49,2],['pies',1.99,2]]\n",
    "food,prices,qtys = zip(*purchases)\n",
    "\n",
    "print(food)\n",
    "print(prices)\n",
    "print(qtys)"
   ]
  },
  {
   "cell_type": "markdown",
   "metadata": {},
   "source": [
    "## The filter() function"
   ]
  },
  {
   "cell_type": "code",
   "execution_count": 123,
   "metadata": {},
   "outputs": [
    {
     "name": "stdout",
     "output_type": "stream",
     "text": [
      "The old man ate two "
     ]
    }
   ],
   "source": [
    "# filter(function,iterable)\n",
    "# uses its function argument to test each element of an iterable.\n",
    "# It returns an iterable of elements that \"pass\" the True test.\n",
    "\n",
    "# Example: Finding 3-letter strings in a list with filter\n",
    "\n",
    "def test(s):\n",
    "    return len(s) == 3\n",
    "\n",
    "# make a list of words\n",
    "words = \"The nice old man never ate those two lemon cupcakes\".split()\n",
    "\n",
    "threes = filter(test,words)\n",
    "for w in threes:\n",
    "    print(w, end = ' ')"
   ]
  },
  {
   "cell_type": "code",
   "execution_count": 124,
   "metadata": {},
   "outputs": [
    {
     "name": "stdout",
     "output_type": "stream",
     "text": [
      "['The', 'old', 'man', 'ate', 'two']\n"
     ]
    }
   ],
   "source": [
    "# A lambda function can be used as the filter function\n",
    "\n",
    "threes = filter(lambda w : len(w) == 3, words)\n",
    "print(list(threes))"
   ]
  },
  {
   "cell_type": "code",
   "execution_count": 125,
   "metadata": {},
   "outputs": [
    {
     "name": "stdout",
     "output_type": "stream",
     "text": [
      "[(92, 'Penny'), (83, 'Jenny'), (78, 'Benny'), (90, 'Kenny'), (95, 'Lenny'), (80, 'Denny')]\n",
      "The A students are : Penny Kenny Lenny "
     ]
    }
   ],
   "source": [
    "# make a list of test scores and names as tuples \n",
    "# use filter to get A students\n",
    "\n",
    "names = ['Penny','Jenny','Benny','Kenny','Lenny','Denny']\n",
    "scores = [92,83,78,90,95,80]\n",
    "\n",
    "results = list(zip(scores,names))   # makes the list of tuples\n",
    "print(results)\n",
    "\n",
    "def grade_a(tup):\n",
    "    if tup[0] >= 90:\n",
    "        return True\n",
    "\n",
    "a_names = filter(grade_a,results)\n",
    "print('The A students are :', end = ' ')\n",
    "for n in a_names:\n",
    "    print(n[1], end = ' ')"
   ]
  },
  {
   "cell_type": "markdown",
   "metadata": {},
   "source": [
    "## The map() function"
   ]
  },
  {
   "cell_type": "code",
   "execution_count": 126,
   "metadata": {},
   "outputs": [
    {
     "name": "stdout",
     "output_type": "stream",
     "text": [
      "[25, 64, 6.25, 36, 16, 12.25]\n"
     ]
    }
   ],
   "source": [
    "# map() calls a specified function for each element in an iterable.\n",
    "# Example: make a list of squares of each number in a tuple\n",
    "\n",
    "def myfunc(n):\n",
    "  return n ** 2\n",
    "\n",
    "result = list(map(myfunc, (5,8,2.5,6,4,3.5))) \n",
    "print(result)"
   ]
  },
  {
   "cell_type": "code",
   "execution_count": 127,
   "metadata": {},
   "outputs": [
    {
     "name": "stdout",
     "output_type": "stream",
     "text": [
      "[22, 10, 24, 18, 6, 20]\n"
     ]
    }
   ],
   "source": [
    "# You can use a lambda function with map()\n",
    "\n",
    "nums = [11,5,12,9,3,10]\n",
    "doubled = map(lambda x:x * 2, nums)\n",
    "print(list(doubled))"
   ]
  },
  {
   "cell_type": "code",
   "execution_count": 128,
   "metadata": {},
   "outputs": [
    {
     "data": {
      "text/plain": [
       "['10', '11', '12', '13', '14', '15', '16', '17', '18', '19', '20']"
      ]
     },
     "execution_count": 128,
     "metadata": {},
     "output_type": "execute_result"
    }
   ],
   "source": [
    "# Use built-in str() function and range()\n",
    "# to get a list of integers as strings\n",
    "\n",
    "list_str = list(map(str,range(10,21)))\n",
    "list_str"
   ]
  },
  {
   "cell_type": "code",
   "execution_count": 129,
   "metadata": {},
   "outputs": [
    {
     "name": "stdout",
     "output_type": "stream",
     "text": [
      "[25, 40, 55]\n"
     ]
    }
   ],
   "source": [
    "# You can pass multiple sequences to map()\n",
    "\n",
    "result = map(lambda a,b: a + b, (5,10,15),(20,30,40))\n",
    "print(list(result))"
   ]
  },
  {
   "cell_type": "markdown",
   "metadata": {},
   "source": [
    "## The enumerate() function"
   ]
  },
  {
   "cell_type": "code",
   "execution_count": 130,
   "metadata": {},
   "outputs": [
    {
     "name": "stdout",
     "output_type": "stream",
     "text": [
      "4\n",
      "breakfast lunch dinner snack "
     ]
    }
   ],
   "source": [
    "# enumerate(iterable,start) adds a counter to an iterable and returns an enumerat\n",
    "# By default start = 0.\n",
    "\n",
    "data = ['breakfast','lunch','dinner','snack']\n",
    "result = list(enumerate(data))                 # default start = 0\n",
    "print(len(result))\n",
    "for n in range(len(result)):\n",
    "    print(result[n][1], end = ' ')"
   ]
  },
  {
   "cell_type": "code",
   "execution_count": 131,
   "metadata": {},
   "outputs": [
    {
     "name": "stdout",
     "output_type": "stream",
     "text": [
      "[(-3, 'H'), (-2, 'e'), (-1, 'l'), (0, 'l'), (1, 'o')]\n"
     ]
    }
   ],
   "source": [
    "# example with start value of -3\n",
    "\n",
    "result = enumerate('Hello',start = -3)\n",
    "print(list(result))"
   ]
  },
  {
   "cell_type": "markdown",
   "metadata": {},
   "source": [
    "## chr() and ord() functions"
   ]
  },
  {
   "cell_type": "code",
   "execution_count": 134,
   "metadata": {},
   "outputs": [
    {
     "name": "stdout",
     "output_type": "stream",
     "text": [
      "A B C D E \n",
      "Some Cherokee Characters: Ꮔ Ꮕ Ꮖ Ꮗ Ꮘ \n",
      "a : 97\n",
      "b : 98\n",
      "c : 99\n",
      "d : 100\n",
      "e : 101\n"
     ]
    }
   ],
   "source": [
    "# to get Unicode character for an integer use chr() function\n",
    "\n",
    "for n in range(65,70):\n",
    "    print(chr(n),end = ' ')\n",
    "    \n",
    "print('\\nSome Cherokee Characters:',end = ' ')\n",
    "    \n",
    "for n in range(5060,5065):\n",
    "    print(chr(n),end = ' ')    \n",
    "    \n",
    "print()\n",
    "\n",
    "# to get integer value for a Unicode character, use ord() function\n",
    "\n",
    "text = 'abcde'\n",
    "for ch in text:\n",
    "    print(ch,':',ord(ch))"
   ]
  },
  {
   "cell_type": "markdown",
   "metadata": {},
   "source": [
    "## Other Python Tricks"
   ]
  },
  {
   "cell_type": "code",
   "execution_count": 132,
   "metadata": {},
   "outputs": [
    {
     "name": "stdout",
     "output_type": "stream",
     "text": [
      "a = 15 and b = 10\n",
      "2 3 1\n"
     ]
    }
   ],
   "source": [
    "# swapping values of variables, no need for a 3rd temp variable\n",
    "a, b = 10, 15                    # why use two statements?\n",
    "a, b = b, a                      # this does the swap\n",
    "print('a =',a,'and b =',b)\n",
    "\n",
    "# you can even swap / re-assign more than two variables\n",
    "x, y, z = 1, 2, 3\n",
    "x, y, z = y, z, x\n",
    "print(x,y,z)"
   ]
  },
  {
   "cell_type": "code",
   "execution_count": 133,
   "metadata": {},
   "outputs": [
    {
     "name": "stdout",
     "output_type": "stream",
     "text": [
      "[5, 4, 3, 2, 1]\n",
      "mussoR nav odiuG\n",
      "racecar a palindrome? True\n"
     ]
    }
   ],
   "source": [
    "# reverse a sequence such as list or string\n",
    "\n",
    "nums = [1,2,3,4,5]\n",
    "nums_rev = nums[::-1]\n",
    "print(nums_rev)\n",
    "\n",
    "guru = 'Guido van Rossum'\n",
    "print(guru[::-1])\n",
    "\n",
    "# detect a palindrome\n",
    "text = 'racecar'\n",
    "print(text,'a palindrome?',text == text[::-1])"
   ]
  }
 ],
 "metadata": {
  "kernelspec": {
   "display_name": "Python 3",
   "language": "python",
   "name": "python3"
  },
  "language_info": {
   "codemirror_mode": {
    "name": "ipython",
    "version": 3
   },
   "file_extension": ".py",
   "mimetype": "text/x-python",
   "name": "python",
   "nbconvert_exporter": "python",
   "pygments_lexer": "ipython3",
   "version": "3.7.4"
  }
 },
 "nbformat": 4,
 "nbformat_minor": 2
}
